{
  "nbformat": 4,
  "nbformat_minor": 0,
  "metadata": {
    "colab": {
      "name": "StemGNN.ipynb",
      "provenance": [],
      "collapsed_sections": [],
      "authorship_tag": "ABX9TyPAXPPpRqhWCyRfsF5KRq/D",
      "include_colab_link": true
    },
    "kernelspec": {
      "name": "python3",
      "display_name": "Python 3"
    },
    "language_info": {
      "name": "python"
    }
  },
  "cells": [
    {
      "cell_type": "markdown",
      "metadata": {
        "id": "view-in-github",
        "colab_type": "text"
      },
      "source": [
        "<a href=\"https://colab.research.google.com/github/SuhwanChung/CE7454/blob/chunhung/StemGNN.ipynb\" target=\"_parent\"><img src=\"https://colab.research.google.com/assets/colab-badge.svg\" alt=\"Open In Colab\"/></a>"
      ]
    },
    {
      "cell_type": "code",
      "metadata": {
        "colab": {
          "base_uri": "https://localhost:8080/",
          "height": 1000
        },
        "id": "gWbvqs6euE8v",
        "outputId": "4e0f3b89-dd6a-40c4-f4f9-672a43bd56fd"
      },
      "source": [
        "\n",
        "# choose your runtime (GPU/None)\n",
        "\n",
        "\n",
        "from google.colab import drive\n",
        "import os\n",
        "import glob\n",
        "import re\n",
        "import cv2\n",
        "from functools import partial\n",
        "import numpy as np\n",
        "from tqdm import tqdm\n",
        "from matplotlib import pyplot as plt\n",
        "from PIL import Image, ImageDraw\n",
        "import seaborn as sns\n",
        "sns.set_style('whitegrid')\n",
        "import torch\n",
        "import torch.nn as nn\n",
        "import torch.nn.functional as F\n",
        "import pandas as pd\n",
        "import torchvision.transforms as T\n",
        "from datetime import datetime\n",
        "import json\n",
        "import time\n",
        "\n",
        "\n",
        "drive.mount('/content/drive')\n",
        "wd = 'drive/MyDrive/CE7454 Demand forecast' #specify your project folder name\n",
        "\n",
        "if not os.path.exists(os.path.join(wd,'StemGNN')):\n",
        "  !git clone https://github.com/microsoft/StemGNN.git '{wd}/StemGNN'\n",
        "\n",
        "\n",
        "!pip install --upgrade pip\n",
        "!pip install -r '{wd}/StemGNN/requirements.txt'\n",
        "!pip install torch==1.7.1 torchvision==0.8.2 \n",
        "\n",
        "\n",
        "# restart to update torch version\n",
        "os.kill(os.getpid(), 9)\n"
      ],
      "execution_count": null,
      "outputs": [
        {
          "output_type": "stream",
          "name": "stdout",
          "text": [
            "Mounted at /content/drive\n",
            "Requirement already satisfied: pip in /usr/local/lib/python3.7/dist-packages (21.1.3)\n",
            "Collecting pip\n",
            "  Downloading pip-21.2.4-py3-none-any.whl (1.6 MB)\n",
            "\u001b[K     |████████████████████████████████| 1.6 MB 5.1 MB/s \n",
            "\u001b[?25hInstalling collected packages: pip\n",
            "  Attempting uninstall: pip\n",
            "    Found existing installation: pip 21.1.3\n",
            "    Uninstalling pip-21.1.3:\n",
            "      Successfully uninstalled pip-21.1.3\n",
            "Successfully installed pip-21.2.4\n",
            "Requirement already satisfied: numpy==1.19.5 in /usr/local/lib/python3.7/dist-packages (from -r drive/MyDrive/CE7454 Demand forecast/StemGNN/requirements.txt (line 1)) (1.19.5)\n",
            "Collecting scipy==1.5.4\n",
            "  Downloading scipy-1.5.4-cp37-cp37m-manylinux1_x86_64.whl (25.9 MB)\n",
            "\u001b[K     |████████████████████████████████| 25.9 MB 946 bytes/s \n",
            "\u001b[?25hRequirement already satisfied: pandas==1.1.5 in /usr/local/lib/python3.7/dist-packages (from -r drive/MyDrive/CE7454 Demand forecast/StemGNN/requirements.txt (line 3)) (1.1.5)\n",
            "Collecting torch==1.7.1\n",
            "  Downloading torch-1.7.1-cp37-cp37m-manylinux1_x86_64.whl (776.8 MB)\n",
            "\u001b[K     |████████████████████████████████| 776.8 MB 17 kB/s \n",
            "\u001b[?25hRequirement already satisfied: pytz>=2017.2 in /usr/local/lib/python3.7/dist-packages (from pandas==1.1.5->-r drive/MyDrive/CE7454 Demand forecast/StemGNN/requirements.txt (line 3)) (2018.9)\n",
            "Requirement already satisfied: python-dateutil>=2.7.3 in /usr/local/lib/python3.7/dist-packages (from pandas==1.1.5->-r drive/MyDrive/CE7454 Demand forecast/StemGNN/requirements.txt (line 3)) (2.8.2)\n",
            "Requirement already satisfied: typing-extensions in /usr/local/lib/python3.7/dist-packages (from torch==1.7.1->-r drive/MyDrive/CE7454 Demand forecast/StemGNN/requirements.txt (line 4)) (3.7.4.3)\n",
            "Requirement already satisfied: six>=1.5 in /usr/local/lib/python3.7/dist-packages (from python-dateutil>=2.7.3->pandas==1.1.5->-r drive/MyDrive/CE7454 Demand forecast/StemGNN/requirements.txt (line 3)) (1.15.0)\n",
            "Installing collected packages: torch, scipy\n",
            "  Attempting uninstall: torch\n",
            "    Found existing installation: torch 1.9.0+cu102\n",
            "    Uninstalling torch-1.9.0+cu102:\n",
            "      Successfully uninstalled torch-1.9.0+cu102\n",
            "  Attempting uninstall: scipy\n",
            "    Found existing installation: scipy 1.4.1\n",
            "    Uninstalling scipy-1.4.1:\n",
            "      Successfully uninstalled scipy-1.4.1\n",
            "\u001b[31mERROR: pip's dependency resolver does not currently take into account all the packages that are installed. This behaviour is the source of the following dependency conflicts.\n",
            "torchvision 0.10.0+cu102 requires torch==1.9.0, but you have torch 1.7.1 which is incompatible.\n",
            "torchtext 0.10.0 requires torch==1.9.0, but you have torch 1.7.1 which is incompatible.\n",
            "albumentations 0.1.12 requires imgaug<0.2.7,>=0.2.5, but you have imgaug 0.2.9 which is incompatible.\u001b[0m\n",
            "Successfully installed scipy-1.5.4 torch-1.7.1\n",
            "\u001b[33mWARNING: Running pip as the 'root' user can result in broken permissions and conflicting behaviour with the system package manager. It is recommended to use a virtual environment instead: https://pip.pypa.io/warnings/venv\u001b[0m\n"
          ]
        },
        {
          "output_type": "display_data",
          "data": {
            "application/vnd.colab-display-data+json": {
              "pip_warning": {
                "packages": [
                  "scipy",
                  "torch"
                ]
              }
            }
          },
          "metadata": {}
        },
        {
          "output_type": "stream",
          "name": "stdout",
          "text": [
            "Requirement already satisfied: torch==1.7.1 in /usr/local/lib/python3.7/dist-packages (1.7.1)\n",
            "Collecting torchvision==0.8.2\n",
            "  Downloading torchvision-0.8.2-cp37-cp37m-manylinux1_x86_64.whl (12.8 MB)\n",
            "\u001b[K     |████████████████████████████████| 12.8 MB 14 kB/s \n",
            "\u001b[?25hRequirement already satisfied: typing-extensions in /usr/local/lib/python3.7/dist-packages (from torch==1.7.1) (3.7.4.3)\n",
            "Requirement already satisfied: numpy in /usr/local/lib/python3.7/dist-packages (from torch==1.7.1) (1.19.5)\n",
            "Requirement already satisfied: pillow>=4.1.1 in /usr/local/lib/python3.7/dist-packages (from torchvision==0.8.2) (7.1.2)\n",
            "Installing collected packages: torchvision\n",
            "  Attempting uninstall: torchvision\n",
            "    Found existing installation: torchvision 0.10.0+cu102\n",
            "    Uninstalling torchvision-0.10.0+cu102:\n",
            "      Successfully uninstalled torchvision-0.10.0+cu102\n",
            "Successfully installed torchvision-0.8.2\n",
            "\u001b[33mWARNING: Running pip as the 'root' user can result in broken permissions and conflicting behaviour with the system package manager. It is recommended to use a virtual environment instead: https://pip.pypa.io/warnings/venv\u001b[0m\n"
          ]
        }
      ]
    },
    {
      "cell_type": "code",
      "metadata": {
        "colab": {
          "base_uri": "https://localhost:8080/"
        },
        "id": "K_TVTUdeLKrs",
        "outputId": "7841136c-7f6e-4577-a057-707ebb7edda4"
      },
      "source": [
        "from google.colab import drive\n",
        "import os\n",
        "import glob\n",
        "import re\n",
        "import cv2\n",
        "from functools import partial\n",
        "import numpy as np\n",
        "from tqdm import tqdm\n",
        "from matplotlib import pyplot as plt\n",
        "from PIL import Image, ImageDraw\n",
        "import seaborn as sns\n",
        "sns.set_style('whitegrid')\n",
        "import torch\n",
        "import torch.nn as nn\n",
        "import torch.nn.functional as F\n",
        "import pandas as pd\n",
        "import torchvision.transforms as T\n",
        "from datetime import datetime\n",
        "import json\n",
        "import time\n",
        "\n",
        "\n",
        "print(torch.__version__)\n",
        "wd = 'drive/MyDrive/CE7454 Demand forecast'\n",
        "%cd '{wd}/StemGNN'"
      ],
      "execution_count": 6,
      "outputs": [
        {
          "output_type": "stream",
          "name": "stdout",
          "text": [
            "1.7.1\n",
            "/content/drive/MyDrive/CE7454 Demand forecast/StemGNN\n"
          ]
        }
      ]
    },
    {
      "cell_type": "code",
      "metadata": {
        "colab": {
          "base_uri": "https://localhost:8080/"
        },
        "id": "0jcO229foSr9",
        "outputId": "0ebb27b8-5599-43a4-a421-4dbb06a122d9"
      },
      "source": [
        "!pip install yahoofinancials\n",
        "import pandas as pd\n",
        "from yahoofinancials import YahooFinancials\n",
        "from shutil import copyfile\n",
        "from tqdm import tqdm\n",
        "\n",
        "\n",
        "def main(in_ticker_csv, out_csv):\n",
        "    output_file_path = out_csv\n",
        "    temp_file_path = output_file_path + '.temp'\n",
        "    date_error_msg = 'Dates are not aligned when adding new company stock prices!\\n' + \\\n",
        "                 'Date in file: {}, Date to add: {}'\n",
        "\n",
        "    # Read company symbols\n",
        "    sp_df = pd.read_csv(in_ticker_csv, encoding = 'unicode_escape')\n",
        "    sp_500_symbols = sp_df.Ticker.values.tolist()\n",
        "\n",
        "    # Prepare the file to write stock prices\n",
        "    symbol_subset = sp_500_symbols[:4]\n",
        "    history = YahooFinancials(symbol_subset)\n",
        "    data = history.get_historical_price_data(start_date='2016-09-30',\n",
        "                                                  end_date='2021-09-30',\n",
        "                                                  time_interval='daily')\n",
        "    prices_df = pd.DataFrame({\n",
        "        a: {x['formatted_date']: x['adjclose'] for x in data[a]['prices']} for a in symbol_subset\n",
        "    })\n",
        "    with open(output_file_path, 'w') as wf:\n",
        "        wf.write(','.join(['date']) + '\\n')\n",
        "        for index, row in prices_df.iterrows():\n",
        "            wf.write(','.join([index]) + '\\n')\n",
        "    date_count = len(prices_df.index)\n",
        "\n",
        "    # Write stock prices of a sebset of companies at a time, or it may hang\n",
        "    batch_size = 1\n",
        "    for i in tqdm(range(0, len(sp_500_symbols), batch_size)):\n",
        "        # Query a subset of companies only\n",
        "        symbol_subset = sp_500_symbols[i:i+batch_size]\n",
        "        history = YahooFinancials(symbol_subset)\n",
        "        data = history.get_historical_price_data(start_date='2016-09-30',\n",
        "                                                      end_date='2021-09-30',\n",
        "                                                      time_interval='daily')\n",
        "        try:\n",
        "            prices_df = pd.DataFrame({\n",
        "                a: {x['formatted_date']: x['adjclose'] for x in data[a]['prices']} for a in symbol_subset\n",
        "            })\n",
        "        except:\n",
        "            print('Skipping for symbols {} as their yahoo queries are not responding'.format(symbol_subset))\n",
        "            continue\n",
        "\n",
        "        new_data_to_add = list(prices_df.iterrows())\n",
        "        if len(new_data_to_add) != date_count:\n",
        "            print('Skipping for symbols {} as they don\\'t have the price info for all the dates'.format(symbol_subset))\n",
        "            continue\n",
        "        \n",
        "        copyfile(output_file_path, temp_file_path)\n",
        "        with open(temp_file_path, 'r') as rf, open(output_file_path, 'w') as wf:\n",
        "            for i2, line in enumerate(rf.readlines()):\n",
        "                # Add more company symbols to the file\n",
        "                if i2 == 0:\n",
        "                    wf.write(line[:-1] + ',' + ','.join(symbol_subset) + '\\n')\n",
        "                # For each new company, add their stock prices\n",
        "                else:\n",
        "                    assert line[:-1].split(',')[0] == new_data_to_add[i2-1][0], date_error_msg.format(line[:-1].split(',')[0], new_data_to_add[i2-1][0])\n",
        "                    wf.write(line[:-1] + ',' + ','.join([str(t) for t in new_data_to_add[i2-1][1].values.tolist()]) + '\\n')\n",
        "\n",
        "    print('Done writing all company stock prices to file.')\n"
      ],
      "execution_count": 9,
      "outputs": [
        {
          "output_type": "stream",
          "name": "stdout",
          "text": [
            "Requirement already satisfied: yahoofinancials in /usr/local/lib/python3.7/dist-packages (1.6)\n",
            "Requirement already satisfied: pytz in /usr/local/lib/python3.7/dist-packages (from yahoofinancials) (2018.9)\n",
            "Requirement already satisfied: beautifulsoup4 in /usr/local/lib/python3.7/dist-packages (from yahoofinancials) (4.6.3)\n",
            "\u001b[33mWARNING: Running pip as the 'root' user can result in broken permissions and conflicting behaviour with the system package manager. It is recommended to use a virtual environment instead: https://pip.pypa.io/warnings/venv\u001b[0m\n"
          ]
        }
      ]
    },
    {
      "cell_type": "code",
      "metadata": {
        "colab": {
          "base_uri": "https://localhost:8080/"
        },
        "id": "Uxtq7mgjocZZ",
        "outputId": "b104764c-c5f3-474a-8bbd-b3ed415c8ed2"
      },
      "source": [
        "main('S&P 500 tickers.csv', 'sp500_prices_adjclose_30_09_16_30_09_21.csv')"
      ],
      "execution_count": 10,
      "outputs": [
        {
          "output_type": "stream",
          "name": "stderr",
          "text": [
            " 13%|█▎        | 65/505 [01:27<2:36:49, 21.39s/it]"
          ]
        },
        {
          "output_type": "stream",
          "name": "stdout",
          "text": [
            "Skipping for symbols ['BRK.B'] as their yahoo queries are not responding\n"
          ]
        },
        {
          "output_type": "stream",
          "name": "stderr",
          "text": [
            " 16%|█▌        | 80/505 [01:32<03:44,  1.89it/s]"
          ]
        },
        {
          "output_type": "stream",
          "name": "stdout",
          "text": [
            "Skipping for symbols ['BF.B'] as they don't have the price info for all the dates\n"
          ]
        },
        {
          "output_type": "stream",
          "name": "stderr",
          "text": [
            " 18%|█▊        | 90/505 [01:35<01:42,  4.07it/s]"
          ]
        },
        {
          "output_type": "stream",
          "name": "stdout",
          "text": [
            "Skipping for symbols ['CARR'] as they don't have the price info for all the dates\n"
          ]
        },
        {
          "output_type": "stream",
          "name": "stderr",
          "text": [
            " 26%|██▌       | 130/505 [01:47<01:40,  3.72it/s]"
          ]
        },
        {
          "output_type": "stream",
          "name": "stdout",
          "text": [
            "Skipping for symbols ['CTVA'] as they don't have the price info for all the dates\n"
          ]
        },
        {
          "output_type": "stream",
          "name": "stderr",
          "text": [
            " 31%|███       | 156/505 [01:55<01:36,  3.60it/s]"
          ]
        },
        {
          "output_type": "stream",
          "name": "stdout",
          "text": [
            "Skipping for symbols ['DOW'] as they don't have the price info for all the dates\n"
          ]
        },
        {
          "output_type": "stream",
          "name": "stderr",
          "text": [
            " 40%|████      | 204/505 [02:12<01:14,  4.02it/s]"
          ]
        },
        {
          "output_type": "stream",
          "name": "stdout",
          "text": [
            "Skipping for symbols ['FOXA'] as they don't have the price info for all the dates\n",
            "Skipping for symbols ['FOX'] as they don't have the price info for all the dates\n"
          ]
        },
        {
          "output_type": "stream",
          "name": "stderr",
          "text": [
            " 47%|████▋     | 237/505 [02:24<01:25,  3.14it/s]"
          ]
        },
        {
          "output_type": "stream",
          "name": "stdout",
          "text": [
            "Skipping for symbols ['HWM'] as they don't have the price info for all the dates\n"
          ]
        },
        {
          "output_type": "stream",
          "name": "stderr",
          "text": [
            " 49%|████▉     | 248/505 [02:28<01:14,  3.43it/s]"
          ]
        },
        {
          "output_type": "stream",
          "name": "stdout",
          "text": [
            "Skipping for symbols ['IR'] as they don't have the price info for all the dates\n"
          ]
        },
        {
          "output_type": "stream",
          "name": "stderr",
          "text": [
            " 56%|█████▌    | 282/505 [02:41<01:23,  2.66it/s]"
          ]
        },
        {
          "output_type": "stream",
          "name": "stdout",
          "text": [
            "Skipping for symbols ['LW'] as they don't have the price info for all the dates\n"
          ]
        },
        {
          "output_type": "stream",
          "name": "stderr",
          "text": [
            " 63%|██████▎   | 318/505 [02:56<00:59,  3.13it/s]"
          ]
        },
        {
          "output_type": "stream",
          "name": "stdout",
          "text": [
            "Skipping for symbols ['MRNA'] as they don't have the price info for all the dates\n"
          ]
        },
        {
          "output_type": "stream",
          "name": "stderr",
          "text": [
            " 71%|███████   | 358/505 [03:12<00:40,  3.63it/s]"
          ]
        },
        {
          "output_type": "stream",
          "name": "stdout",
          "text": [
            "Skipping for symbols ['OGN'] as they don't have the price info for all the dates\n",
            "Skipping for symbols ['OTIS'] as they don't have the price info for all the dates\n"
          ]
        },
        {
          "output_type": "stream",
          "name": "stderr",
          "text": [
            "100%|██████████| 505/505 [06:11<00:00,  1.36it/s]"
          ]
        },
        {
          "output_type": "stream",
          "name": "stdout",
          "text": [
            "Done writing all company stock prices to file.\n"
          ]
        },
        {
          "output_type": "stream",
          "name": "stderr",
          "text": [
            "\n"
          ]
        }
      ]
    },
    {
      "cell_type": "code",
      "metadata": {
        "id": "o_4fTYpLQ67W"
      },
      "source": [
        "# config args\n",
        "\n",
        "args ={\n",
        "\n",
        "\n",
        "'train':True,\n",
        "'evaluate':True,\n",
        "'dataset':'sp500_prices_adjclose_30_09_16_30_09_21',\n",
        "'window_size':12,\n",
        "'horizon':3,\n",
        "'train_length': 7,\n",
        "'valid_length': 2,\n",
        "'test_length' :1,\n",
        "'epoch':50,\n",
        "'lr' :1e-4,\n",
        "'multi_layer':5,\n",
        "'device':'cpu',\n",
        "'validate_freq':1,\n",
        "'batch_size':32,\n",
        "'norm_method':'z_score',\n",
        "'optimizer':'RMSProp',\n",
        "'early_stop':False,\n",
        "'exponential_decay_step':5,\n",
        "'decay_rate' :0.5,\n",
        "'dropout_rate' :0.5,\n",
        "'leakyrelu_rate':0.2,\n",
        "}\n",
        "\n",
        "class AttrDict(dict):\n",
        "  def __init__(self,*args, **kwargs):\n",
        "    super().__init__(*args, **kwargs)\n",
        "    self.__dict__ = self\n",
        "\n",
        "args = AttrDict(args)"
      ],
      "execution_count": 16,
      "outputs": []
    },
    {
      "cell_type": "code",
      "metadata": {
        "colab": {
          "base_uri": "https://localhost:8080/"
        },
        "id": "-1R3az0PShhM",
        "outputId": "ca067111-5271-45ac-b682-d8461bb924d6"
      },
      "source": [
        "\n",
        "# GET training data\n",
        "\n",
        "\n",
        "print(f'Training configs: {args}')\n",
        "data_file = os.path.join('dataset', args.dataset + '.csv')\n",
        "result_train_file = os.path.join('output', args.dataset, 'train')\n",
        "result_test_file = os.path.join('output', args.dataset, 'test')\n",
        "if not os.path.exists(result_train_file):\n",
        "    os.makedirs(result_train_file)\n",
        "if not os.path.exists(result_test_file):\n",
        "    os.makedirs(result_test_file)\n",
        "# data = pd.read_csv(data_file).values\n",
        "data = pd.read_csv(data_file).drop('date',1).values\n",
        "# split data\n",
        "train_ratio = args.train_length / (args.train_length + args.valid_length + args.test_length)\n",
        "valid_ratio = args.valid_length / (args.train_length + args.valid_length + args.test_length)\n",
        "test_ratio = 1 - train_ratio - valid_ratio\n",
        "train_data = data[:int(train_ratio * len(data))]\n",
        "valid_data = data[int(train_ratio * len(data)):int((train_ratio + valid_ratio) * len(data))]\n",
        "test_data = data[int((train_ratio + valid_ratio) * len(data)):]\n"
      ],
      "execution_count": 25,
      "outputs": [
        {
          "output_type": "stream",
          "name": "stdout",
          "text": [
            "Training configs: {'train': True, 'evaluate': True, 'dataset': 'sp500_prices_adjclose_30_09_16_30_09_21', 'window_size': 12, 'horizon': 3, 'train_length': 7, 'valid_length': 2, 'test_length': 1, 'epoch': 50, 'lr': 0.0001, 'multi_layer': 5, 'device': 'cpu', 'validate_freq': 1, 'batch_size': 32, 'norm_method': 'z_score', 'optimizer': 'RMSProp', 'early_stop': False, 'exponential_decay_step': 5, 'decay_rate': 0.5, 'dropout_rate': 0.5, 'leakyrelu_rate': 0.2}\n"
          ]
        }
      ]
    },
    {
      "cell_type": "code",
      "metadata": {
        "colab": {
          "base_uri": "https://localhost:8080/"
        },
        "id": "L-_2GW4nxDO7",
        "outputId": "833d19a0-00a8-4cfc-aa8a-1389aca615f8"
      },
      "source": [
        "train_data.shape , valid_data.shape"
      ],
      "execution_count": 27,
      "outputs": [
        {
          "output_type": "execute_result",
          "data": {
            "text/plain": [
              "((871, 492), (249, 492))"
            ]
          },
          "metadata": {},
          "execution_count": 27
        }
      ]
    },
    {
      "cell_type": "code",
      "metadata": {
        "id": "QHnLhbHeXTEn"
      },
      "source": [
        "# move training dependencies here for the ease of training\n",
        "\n",
        "\n",
        "from utils.math_utils import evaluate\n",
        "\n",
        "\n",
        "\n",
        "class GLU(nn.Module):\n",
        "    def __init__(self, input_channel, output_channel):\n",
        "        super(GLU, self).__init__()\n",
        "        self.linear_left = nn.Linear(input_channel, output_channel)\n",
        "        self.linear_right = nn.Linear(input_channel, output_channel)\n",
        "\n",
        "    def forward(self, x):\n",
        "        return torch.mul(self.linear_left(x), torch.sigmoid(self.linear_right(x)))\n",
        "\n",
        "\n",
        "class StockBlockLayer(nn.Module):\n",
        "    def __init__(self, time_step, unit, multi_layer, stack_cnt=0):\n",
        "        super(StockBlockLayer, self).__init__()\n",
        "        self.time_step = time_step\n",
        "        self.unit = unit\n",
        "        self.stack_cnt = stack_cnt\n",
        "        self.multi = multi_layer\n",
        "        self.weight = nn.Parameter(\n",
        "            torch.Tensor(1, 3 + 1, 1, self.time_step * self.multi,\n",
        "                         self.multi * self.time_step))  # [K+1, 1, in_c, out_c]\n",
        "        nn.init.xavier_normal_(self.weight)\n",
        "        self.forecast = nn.Linear(self.time_step * self.multi, self.time_step * self.multi)\n",
        "        self.forecast_result = nn.Linear(self.time_step * self.multi, self.time_step)\n",
        "        if self.stack_cnt == 0:\n",
        "            self.backcast = nn.Linear(self.time_step * self.multi, self.time_step)\n",
        "        self.backcast_short_cut = nn.Linear(self.time_step, self.time_step)\n",
        "        self.relu = nn.ReLU()\n",
        "        self.GLUs = nn.ModuleList()\n",
        "        self.output_channel = 4 * self.multi\n",
        "        for i in range(3):\n",
        "            if i == 0:\n",
        "                self.GLUs.append(GLU(self.time_step * 4, self.time_step * self.output_channel))\n",
        "                self.GLUs.append(GLU(self.time_step * 4, self.time_step * self.output_channel))\n",
        "            elif i == 1:\n",
        "                self.GLUs.append(GLU(self.time_step * self.output_channel, self.time_step * self.output_channel))\n",
        "                self.GLUs.append(GLU(self.time_step * self.output_channel, self.time_step * self.output_channel))\n",
        "            else:\n",
        "                self.GLUs.append(GLU(self.time_step * self.output_channel, self.time_step * self.output_channel))\n",
        "                self.GLUs.append(GLU(self.time_step * self.output_channel, self.time_step * self.output_channel))\n",
        "\n",
        "    def spe_seq_cell(self, input):\n",
        "        batch_size, k, input_channel, node_cnt, time_step = input.size()\n",
        "        input = input.view(batch_size, -1, node_cnt, time_step)\n",
        "        ffted = torch.rfft(input, 1, onesided=False)\n",
        "        real = ffted[..., 0].permute(0, 2, 1, 3).contiguous().reshape(batch_size, node_cnt, -1)\n",
        "        img = ffted[..., 1].permute(0, 2, 1, 3).contiguous().reshape(batch_size, node_cnt, -1)\n",
        "        for i in range(3):\n",
        "            real = self.GLUs[i * 2](real)\n",
        "            img = self.GLUs[2 * i + 1](img)\n",
        "        real = real.reshape(batch_size, node_cnt, 4, -1).permute(0, 2, 1, 3).contiguous()\n",
        "        img = img.reshape(batch_size, node_cnt, 4, -1).permute(0, 2, 1, 3).contiguous()\n",
        "        time_step_as_inner = torch.cat([real.unsqueeze(-1), img.unsqueeze(-1)], dim=-1)\n",
        "        iffted = torch.irfft(time_step_as_inner, 1, onesided=False)\n",
        "        return iffted\n",
        "\n",
        "    def forward(self, x, mul_L):\n",
        "        mul_L = mul_L.unsqueeze(1)\n",
        "        x = x.unsqueeze(1)\n",
        "        gfted = torch.matmul(mul_L, x)\n",
        "        gconv_input = self.spe_seq_cell(gfted).unsqueeze(2)\n",
        "        igfted = torch.matmul(gconv_input, self.weight)\n",
        "        igfted = torch.sum(igfted, dim=1)\n",
        "        forecast_source = torch.sigmoid(self.forecast(igfted).squeeze(1))\n",
        "        forecast = self.forecast_result(forecast_source)\n",
        "        if self.stack_cnt == 0:\n",
        "            backcast_short = self.backcast_short_cut(x).squeeze(1)\n",
        "            backcast_source = torch.sigmoid(self.backcast(igfted) - backcast_short)\n",
        "        else:\n",
        "            backcast_source = None\n",
        "        return forecast, backcast_source\n",
        "\n",
        "\n",
        "class Model(nn.Module):\n",
        "    def __init__(self, units, stack_cnt, time_step, multi_layer, horizon=1, dropout_rate=0.5, leaky_rate=0.2,\n",
        "                 device='cpu'):\n",
        "        super(Model, self).__init__()\n",
        "        self.unit = units\n",
        "        self.stack_cnt = stack_cnt\n",
        "        self.unit = units\n",
        "        self.alpha = leaky_rate\n",
        "        self.time_step = time_step\n",
        "        self.horizon = horizon\n",
        "        self.weight_key = nn.Parameter(torch.zeros(size=(self.unit, 1)))\n",
        "        nn.init.xavier_uniform_(self.weight_key.data, gain=1.414)\n",
        "        self.weight_query = nn.Parameter(torch.zeros(size=(self.unit, 1)))\n",
        "        nn.init.xavier_uniform_(self.weight_query.data, gain=1.414)\n",
        "        self.GRU = nn.GRU(self.time_step, self.unit)\n",
        "        self.multi_layer = multi_layer\n",
        "        self.stock_block = nn.ModuleList()\n",
        "        self.stock_block.extend(\n",
        "            [StockBlockLayer(self.time_step, self.unit, self.multi_layer, stack_cnt=i) for i in range(self.stack_cnt)])\n",
        "        self.fc = nn.Sequential(\n",
        "            nn.Linear(int(self.time_step), int(self.time_step)),\n",
        "            nn.LeakyReLU(),\n",
        "            nn.Linear(int(self.time_step), self.horizon),\n",
        "        )\n",
        "        self.leakyrelu = nn.LeakyReLU(self.alpha)\n",
        "        self.dropout = nn.Dropout(p=dropout_rate)\n",
        "        self.to(device)\n",
        "\n",
        "    def get_laplacian(self, graph, normalize):\n",
        "        \"\"\"\n",
        "        return the laplacian of the graph.\n",
        "        :param graph: the graph structure without self loop, [N, N].\n",
        "        :param normalize: whether to used the normalized laplacian.\n",
        "        :return: graph laplacian.\n",
        "        \"\"\"\n",
        "        if normalize:\n",
        "            D = torch.diag(torch.sum(graph, dim=-1) ** (-1 / 2))\n",
        "            L = torch.eye(graph.size(0), device=graph.device, dtype=graph.dtype) - torch.mm(torch.mm(D, graph), D)\n",
        "        else:\n",
        "            D = torch.diag(torch.sum(graph, dim=-1))\n",
        "            L = D - graph\n",
        "        return L\n",
        "\n",
        "    def cheb_polynomial(self, laplacian):\n",
        "        \"\"\"\n",
        "        Compute the Chebyshev Polynomial, according to the graph laplacian.\n",
        "        :param laplacian: the graph laplacian, [N, N].\n",
        "        :return: the multi order Chebyshev laplacian, [K, N, N].\n",
        "        \"\"\"\n",
        "        N = laplacian.size(0)  # [N, N]\n",
        "        laplacian = laplacian.unsqueeze(0)\n",
        "        first_laplacian = torch.zeros([1, N, N], device=laplacian.device, dtype=torch.float)\n",
        "        second_laplacian = laplacian\n",
        "        third_laplacian = (2 * torch.matmul(laplacian, second_laplacian)) - first_laplacian\n",
        "        forth_laplacian = 2 * torch.matmul(laplacian, third_laplacian) - second_laplacian\n",
        "        multi_order_laplacian = torch.cat([first_laplacian, second_laplacian, third_laplacian, forth_laplacian], dim=0)\n",
        "        return multi_order_laplacian\n",
        "\n",
        "    def latent_correlation_layer(self, x):\n",
        "        input, _ = self.GRU(x.permute(2, 0, 1).contiguous())\n",
        "        input = input.permute(1, 0, 2).contiguous()\n",
        "        attention = self.self_graph_attention(input)\n",
        "        attention = torch.mean(attention, dim=0)\n",
        "        degree = torch.sum(attention, dim=1)\n",
        "        # laplacian is sym or not\n",
        "        attention = 0.5 * (attention + attention.T)\n",
        "        degree_l = torch.diag(degree)\n",
        "        diagonal_degree_hat = torch.diag(1 / (torch.sqrt(degree) + 1e-7))\n",
        "        laplacian = torch.matmul(diagonal_degree_hat,\n",
        "                                 torch.matmul(degree_l - attention, diagonal_degree_hat))\n",
        "        mul_L = self.cheb_polynomial(laplacian)\n",
        "        return mul_L, attention\n",
        "\n",
        "    def self_graph_attention(self, input):\n",
        "        input = input.permute(0, 2, 1).contiguous()\n",
        "        bat, N, fea = input.size()\n",
        "        key = torch.matmul(input, self.weight_key)\n",
        "        query = torch.matmul(input, self.weight_query)\n",
        "        data = key.repeat(1, 1, N).view(bat, N * N, 1) + query.repeat(1, N, 1)\n",
        "        data = data.squeeze(2)\n",
        "        data = data.view(bat, N, -1)\n",
        "        data = self.leakyrelu(data)\n",
        "        attention = F.softmax(data, dim=2)\n",
        "        attention = self.dropout(attention)\n",
        "        return attention\n",
        "\n",
        "    def graph_fft(self, input, eigenvectors):\n",
        "        return torch.matmul(eigenvectors, input)\n",
        "\n",
        "    def forward(self, x):\n",
        "        mul_L, attention = self.latent_correlation_layer(x)\n",
        "        X = x.unsqueeze(1).permute(0, 1, 3, 2).contiguous()\n",
        "        result = []\n",
        "        for stack_i in range(self.stack_cnt):\n",
        "            forecast, X = self.stock_block[stack_i](X, mul_L)\n",
        "            result.append(forecast)\n",
        "        forecast = result[0] + result[1]\n",
        "        forecast = self.fc(forecast)\n",
        "        if forecast.size()[-1] == 1:\n",
        "            return forecast.unsqueeze(1).squeeze(-1), attention\n",
        "        else:\n",
        "            return forecast.permute(0, 2, 1).contiguous(), attention\n",
        "\n",
        "\n",
        "\n",
        "\n",
        "def train(train_data, valid_data, args, result_file):\n",
        "    node_cnt = train_data.shape[1]\n",
        "    model = Model(node_cnt, 2, args.window_size, args.multi_layer, horizon=args.horizon)\n",
        "    model.to(args.device)\n",
        "    if len(train_data) == 0:\n",
        "        raise Exception('Cannot organize enough training data')\n",
        "    if len(valid_data) == 0:\n",
        "        raise Exception('Cannot organize enough validation data')\n",
        "\n",
        "    if args.norm_method == 'z_score':\n",
        "        train_mean = np.mean(train_data, axis=0)\n",
        "        train_std = np.std(train_data, axis=0)\n",
        "        normalize_statistic = {\"mean\": train_mean.tolist(), \"std\": train_std.tolist()}\n",
        "    elif args.norm_method == 'min_max':\n",
        "        train_min = np.min(train_data, axis=0)\n",
        "        train_max = np.max(train_data, axis=0)\n",
        "        normalize_statistic = {\"min\": train_min.tolist(), \"max\": train_max.tolist()}\n",
        "    else:\n",
        "        normalize_statistic = None\n",
        "    if normalize_statistic is not None:\n",
        "        with open(os.path.join(result_file, 'norm_stat.json'), 'w') as f:\n",
        "            json.dump(normalize_statistic, f)\n",
        "\n",
        "    if args.optimizer == 'RMSProp':\n",
        "        my_optim = torch.optim.RMSprop(params=model.parameters(), lr=args.lr, eps=1e-08)\n",
        "    else:\n",
        "        my_optim = torch.optim.Adam(params=model.parameters(), lr=args.lr, betas=(0.9, 0.999))\n",
        "    my_lr_scheduler = torch.optim.lr_scheduler.ExponentialLR(optimizer=my_optim, gamma=args.decay_rate)\n",
        "\n",
        "    train_set = ForecastDataset(train_data, window_size=args.window_size, horizon=args.horizon,\n",
        "                                normalize_method=args.norm_method, norm_statistic=normalize_statistic)\n",
        "    valid_set = ForecastDataset(valid_data, window_size=args.window_size, horizon=args.horizon,\n",
        "                                normalize_method=args.norm_method, norm_statistic=normalize_statistic)\n",
        "    train_loader = torch.utils.data.DataLoader(train_set, batch_size=args.batch_size, drop_last=False, shuffle=True,\n",
        "                                         num_workers=0)\n",
        "    valid_loader = torch.utils.data.DataLoader(valid_set, batch_size=args.batch_size, shuffle=False, num_workers=0)\n",
        "\n",
        "    forecast_loss = nn.MSELoss(reduction='mean').to(args.device)\n",
        "\n",
        "    total_params = 0\n",
        "    for name, parameter in model.named_parameters():\n",
        "        if not parameter.requires_grad: continue\n",
        "        param = parameter.numel()\n",
        "        total_params += param\n",
        "    print(f\"Total Trainable Params: {total_params}\")\n",
        "\n",
        "    best_validate_mae = np.inf\n",
        "    validate_score_non_decrease_count = 0\n",
        "    performance_metrics = {}\n",
        "    for epoch in range(args.epoch):\n",
        "        epoch_start_time = time.time()\n",
        "        model.train()\n",
        "        loss_total = 0\n",
        "        cnt = 0\n",
        "        for i, (inputs, target) in enumerate(train_loader):\n",
        "            inputs = inputs.to(args.device)\n",
        "            target = target.to(args.device)\n",
        "            model.zero_grad()\n",
        "            forecast, _ = model(inputs)\n",
        "            loss = forecast_loss(forecast, target)\n",
        "            cnt += 1\n",
        "            loss.backward()\n",
        "            my_optim.step()\n",
        "            loss_total += float(loss)\n",
        "        print('| end of epoch {:3d} | time: {:5.2f}s | train_total_loss {:5.4f}'.format(epoch, (\n",
        "                time.time() - epoch_start_time), loss_total / cnt))\n",
        "        save_model(model, result_file, epoch)\n",
        "        if (epoch+1) % args.exponential_decay_step == 0:\n",
        "            my_lr_scheduler.step()\n",
        "        if (epoch + 1) % args.validate_freq == 0:\n",
        "            is_best_for_now = False\n",
        "            print('------ validate on data: VALIDATE ------')\n",
        "            performance_metrics = \\\n",
        "                validate(model, valid_loader, args.device, args.norm_method, normalize_statistic,\n",
        "                         node_cnt, args.window_size, args.horizon,\n",
        "                         result_file=result_file)\n",
        "            if best_validate_mae > performance_metrics['mae']:\n",
        "                best_validate_mae = performance_metrics['mae']\n",
        "                is_best_for_now = True\n",
        "                validate_score_non_decrease_count = 0\n",
        "            else:\n",
        "                validate_score_non_decrease_count += 1\n",
        "            # save model\n",
        "            if is_best_for_now:\n",
        "                save_model(model, result_file)\n",
        "        # early stop\n",
        "        if args.early_stop and validate_score_non_decrease_count >= args.early_stop_step:\n",
        "            break\n",
        "    return performance_metrics, normalize_statistic\n",
        "\n",
        "\n",
        "\n",
        "\n",
        "def save_model(model, model_dir, epoch=None):\n",
        "    if model_dir is None:\n",
        "        return\n",
        "    if not os.path.exists(model_dir):\n",
        "        os.makedirs(model_dir)\n",
        "    epoch = str(epoch) if epoch else ''\n",
        "    file_name = os.path.join(model_dir, epoch + '_stemgnn.pt')\n",
        "    with open(file_name, 'wb') as f:\n",
        "        torch.save(model, f)\n",
        "\n",
        "\n",
        "\n",
        "\n",
        "def normalized(data, normalize_method, norm_statistic=None):\n",
        "    if normalize_method == 'min_max':\n",
        "        if not norm_statistic:\n",
        "            norm_statistic = dict(max=np.max(data, axis=0), min=np.min(data, axis=0))\n",
        "        scale = norm_statistic['max'] - norm_statistic['min'] + 1e-5\n",
        "        data = (data - norm_statistic['min']) / scale\n",
        "        data = np.clip(data, 0.0, 1.0)\n",
        "    elif normalize_method == 'z_score':\n",
        "        if not norm_statistic:\n",
        "            norm_statistic = dict(mean=np.mean(data, axis=0), std=np.std(data, axis=0))\n",
        "        mean = norm_statistic['mean']\n",
        "        std = norm_statistic['std']\n",
        "        std = [1 if i == 0 else i for i in std]\n",
        "        data = (data - mean) / std\n",
        "        norm_statistic['std'] = std\n",
        "    return data, norm_statistic\n",
        "\n",
        "\n",
        "def de_normalized(data, normalize_method, norm_statistic):\n",
        "    if normalize_method == 'min_max':\n",
        "        if not norm_statistic:\n",
        "            norm_statistic = dict(max=np.max(data, axis=0), min=np.min(data, axis=0))\n",
        "        scale = norm_statistic['max'] - norm_statistic['min'] + 1e-8\n",
        "        data = data * scale + norm_statistic['min']\n",
        "    elif normalize_method == 'z_score':\n",
        "        if not norm_statistic:\n",
        "            norm_statistic = dict(mean=np.mean(data, axis=0), std=np.std(data, axis=0))\n",
        "        mean = norm_statistic['mean']\n",
        "        std = norm_statistic['std']\n",
        "        std = [1 if i == 0 else i for i in std]\n",
        "        data = data * std + mean\n",
        "    return data\n",
        "\n",
        "\n",
        "class ForecastDataset(torch.utils.data.Dataset):\n",
        "    def __init__(self, df, window_size, horizon, normalize_method=None, norm_statistic=None, interval=1):\n",
        "        self.window_size = window_size\n",
        "        self.interval = interval\n",
        "        self.horizon = horizon\n",
        "        self.normalize_method = normalize_method\n",
        "        self.norm_statistic = norm_statistic\n",
        "        df = pd.DataFrame(df)\n",
        "        df = df.fillna(method='ffill', limit=len(df)).fillna(method='bfill', limit=len(df)).values\n",
        "        self.data = df\n",
        "        self.df_length = len(df)\n",
        "        self.x_end_idx = self.get_x_end_idx()\n",
        "        if normalize_method:\n",
        "            self.data, _ = normalized(self.data, normalize_method, norm_statistic)\n",
        "\n",
        "    def __getitem__(self, index):\n",
        "        hi = self.x_end_idx[index]\n",
        "        lo = hi - self.window_size\n",
        "        train_data = self.data[lo: hi]\n",
        "        target_data = self.data[hi:hi + self.horizon]\n",
        "        x = torch.from_numpy(train_data).type(torch.float)\n",
        "        y = torch.from_numpy(target_data).type(torch.float)\n",
        "        return x, y\n",
        "\n",
        "    def __len__(self):\n",
        "        return len(self.x_end_idx)\n",
        "\n",
        "    def get_x_end_idx(self):\n",
        "        # each element `hi` in `x_index_set` is an upper bound for get training data\n",
        "        # training data range: [lo, hi), lo = hi - window_size\n",
        "        x_index_set = range(self.window_size, self.df_length - self.horizon + 1)\n",
        "        x_end_idx = [x_index_set[j * self.interval] for j in range((len(x_index_set)) // self.interval)]\n",
        "        return x_end_idx\n",
        "\n",
        "\n",
        "\n",
        "def validate(model, dataloader, device, normalize_method, statistic,\n",
        "             node_cnt, window_size, horizon,\n",
        "             result_file=None):\n",
        "    start = datetime.now()\n",
        "    forecast_norm, target_norm = inference(model, dataloader, device,\n",
        "                                           node_cnt, window_size, horizon)\n",
        "    if normalize_method and statistic:\n",
        "        forecast = de_normalized(forecast_norm, normalize_method, statistic)\n",
        "        target = de_normalized(target_norm, normalize_method, statistic)\n",
        "    else:\n",
        "        forecast, target = forecast_norm, target_norm\n",
        "    score = evaluate(target, forecast)\n",
        "    score_by_node = evaluate(target, forecast, by_node=True)\n",
        "    end = datetime.now()\n",
        "\n",
        "    score_norm = evaluate(target_norm, forecast_norm)\n",
        "    print(f'NORM: MAPE {score_norm[0]:7.9%}; MAE {score_norm[1]:7.9f}; RMSE {score_norm[2]:7.9f}.')\n",
        "    print(f'RAW : MAPE {score[0]:7.9%}; MAE {score[1]:7.9f}; RMSE {score[2]:7.9f}.')\n",
        "    if result_file:\n",
        "        if not os.path.exists(result_file):\n",
        "            os.makedirs(result_file)\n",
        "        step_to_print = 0\n",
        "        forcasting_2d = forecast[:, step_to_print, :]\n",
        "        forcasting_2d_target = target[:, step_to_print, :]\n",
        "\n",
        "        np.savetxt(f'{result_file}/target.csv', forcasting_2d_target, delimiter=\",\")\n",
        "        np.savetxt(f'{result_file}/predict.csv', forcasting_2d, delimiter=\",\")\n",
        "        np.savetxt(f'{result_file}/predict_abs_error.csv',\n",
        "                   np.abs(forcasting_2d - forcasting_2d_target), delimiter=\",\")\n",
        "        np.savetxt(f'{result_file}/predict_ape.csv',\n",
        "                   np.abs((forcasting_2d - forcasting_2d_target) / forcasting_2d_target), delimiter=\",\")\n",
        "\n",
        "    return dict(mae=score[1], mae_node=score_by_node[1], mape=score[0], mape_node=score_by_node[0],\n",
        "                rmse=score[2], rmse_node=score_by_node[2])\n",
        "\n",
        "\n",
        "\n",
        "def inference(model, dataloader, device, node_cnt, window_size, horizon):\n",
        "    forecast_set = []\n",
        "    target_set = []\n",
        "    model.eval()\n",
        "    with torch.no_grad():\n",
        "        for i, (inputs, target) in enumerate(dataloader):\n",
        "            inputs = inputs.to(device)\n",
        "            target = target.to(device)\n",
        "            step = 0\n",
        "            forecast_steps = np.zeros([inputs.size()[0], horizon, node_cnt], dtype=np.float)\n",
        "            while step < horizon:\n",
        "                forecast_result, a = model(inputs)\n",
        "                len_model_output = forecast_result.size()[1]\n",
        "                if len_model_output == 0:\n",
        "                    raise Exception('Get blank inference result')\n",
        "                inputs[:, :window_size - len_model_output, :] = inputs[:, len_model_output:window_size,\n",
        "                                                                   :].clone()\n",
        "                inputs[:, window_size - len_model_output:, :] = forecast_result.clone()\n",
        "                forecast_steps[:, step:min(horizon - step, len_model_output) + step, :] = \\\n",
        "                    forecast_result[:, :min(horizon - step, len_model_output), :].detach().cpu().numpy()\n",
        "                step += min(horizon - step, len_model_output)\n",
        "            forecast_set.append(forecast_steps)\n",
        "            target_set.append(target.detach().cpu().numpy())\n",
        "    return np.concatenate(forecast_set, axis=0), np.concatenate(target_set, axis=0)\n",
        "\n",
        "\n",
        "\n"
      ],
      "execution_count": 35,
      "outputs": []
    },
    {
      "cell_type": "code",
      "metadata": {
        "colab": {
          "base_uri": "https://localhost:8080/"
        },
        "id": "q9uOk7rPvdGV",
        "outputId": "79c79275-3933-4fef-aa97-488e5d00c07f"
      },
      "source": [
        "\n",
        "# def train(train_data, valid_data, args, result_file):\n",
        "#     node_cnt = train_data.shape[1]\n",
        "#     model = Model(node_cnt, 2, args.window_size, args.multi_layer, horizon=args.horizon)\n",
        "#     model.to(args.device)\n",
        "#     if len(train_data) == 0:\n",
        "#         raise Exception('Cannot organize enough training data')\n",
        "#     if len(valid_data) == 0:\n",
        "#         raise Exception('Cannot organize enough validation data')\n",
        "\n",
        "#     if args.norm_method == 'z_score':\n",
        "#         train_mean = np.mean(train_data, axis=0)\n",
        "#         train_std = np.std(train_data, axis=0)\n",
        "#         normalize_statistic = {\"mean\": train_mean.tolist(), \"std\": train_std.tolist()}\n",
        "#     elif args.norm_method == 'min_max':\n",
        "#         train_min = np.min(train_data, axis=0)\n",
        "#         train_max = np.max(train_data, axis=0)\n",
        "#         normalize_statistic = {\"min\": train_min.tolist(), \"max\": train_max.tolist()}\n",
        "#     else:\n",
        "#         normalize_statistic = None\n",
        "#     if normalize_statistic is not None:\n",
        "#         with open(os.path.join(result_file, 'norm_stat.json'), 'w') as f:\n",
        "#             json.dump(normalize_statistic, f)\n",
        "\n",
        "#     if args.optimizer == 'RMSProp':\n",
        "#         my_optim = torch.optim.RMSprop(params=model.parameters(), lr=args.lr, eps=1e-08)\n",
        "#     else:\n",
        "#         my_optim = torch.optim.Adam(params=model.parameters(), lr=args.lr, betas=(0.9, 0.999))\n",
        "#     my_lr_scheduler = torch.optim.lr_scheduler.ExponentialLR(optimizer=my_optim, gamma=args.decay_rate)\n",
        "\n",
        "#     train_set = ForecastDataset(train_data, window_size=args.window_size, horizon=args.horizon,\n",
        "#                                 normalize_method=args.norm_method, norm_statistic=normalize_statistic)\n",
        "#     valid_set = ForecastDataset(valid_data, window_size=args.window_size, horizon=args.horizon,\n",
        "#                                 normalize_method=args.norm_method, norm_statistic=normalize_statistic)\n",
        "#     train_loader = torch.utils.data.DataLoader(train_set, batch_size=args.batch_size, drop_last=False, shuffle=True,\n",
        "#                                          num_workers=0)\n",
        "#     valid_loader = torch.utils.data.DataLoader(valid_set, batch_size=args.batch_size, shuffle=False, num_workers=0)\n",
        "\n",
        "#     forecast_loss = nn.MSELoss(reduction='mean').to(args.device)\n",
        "\n",
        "#     total_params = 0\n",
        "#     for name, parameter in model.named_parameters():\n",
        "#         if not parameter.requires_grad: continue\n",
        "#         param = parameter.numel()\n",
        "#         total_params += param\n",
        "#     print(f\"Total Trainable Params: {total_params}\")\n",
        "\n",
        "#     return model, train_loader\n",
        "\n",
        "\n",
        "\n",
        "# net, train_loader = train(train_data, valid_data, args, result_train_file)\n"
      ],
      "execution_count": 33,
      "outputs": [
        {
          "output_type": "stream",
          "name": "stdout",
          "text": [
            "Total Trainable Params: 1806183\n"
          ]
        }
      ]
    },
    {
      "cell_type": "code",
      "metadata": {
        "id": "l2ahzwOmwyMN"
      },
      "source": [
        "# train_set = ForecastDataset(train_data, window_size=args.window_size, horizon=args.horizon,\n",
        "#                                 normalize_method=args.norm_method, norm_statistic=None)\n",
        "# for it, batch in enumerate(train_loader):\n",
        "#   break"
      ],
      "execution_count": null,
      "outputs": []
    },
    {
      "cell_type": "code",
      "metadata": {
        "colab": {
          "base_uri": "https://localhost:8080/"
        },
        "id": "-IkcRyvo6SqW",
        "outputId": "466090d3-63a1-4d99-a42b-35e8c1369f30"
      },
      "source": [
        "args"
      ],
      "execution_count": null,
      "outputs": [
        {
          "output_type": "execute_result",
          "data": {
            "text/plain": [
              "{'batch_size': 32,\n",
              " 'dataset': 'PeMS07',\n",
              " 'decay_rate': 0.5,\n",
              " 'device': 'cpu',\n",
              " 'dropout_rate': 0.5,\n",
              " 'early_stop': False,\n",
              " 'epoch': 50,\n",
              " 'evaluate': True,\n",
              " 'exponential_decay_step': 5,\n",
              " 'horizon': 3,\n",
              " 'leakyrelu_rate': 0.2,\n",
              " 'lr': 0.0001,\n",
              " 'multi_layer': 5,\n",
              " 'norm_method': 'z_score',\n",
              " 'optimizer': 'RMSProp',\n",
              " 'test_length': 1,\n",
              " 'train': True,\n",
              " 'train_length': 7,\n",
              " 'valid_length': 2,\n",
              " 'validate_freq': 1,\n",
              " 'window_size': 12}"
            ]
          },
          "metadata": {},
          "execution_count": 62
        }
      ]
    },
    {
      "cell_type": "code",
      "metadata": {
        "id": "gd-LLhBbzCfr"
      },
      "source": [
        "# def latent_correlation_layer(self, x):\n",
        "#       input, _ = self.GRU(x.permute(2, 0, 1).contiguous())\n",
        "#       input = input.permute(1, 0, 2).contiguous()\n",
        "#       attention = self.self_graph_attention(input)\n",
        "#       attention = torch.mean(attention, dim=0)\n",
        "#       degree = torch.sum(attention, dim=1)\n",
        "#       # laplacian is sym or not\n",
        "#       attention = 0.5 * (attention + attention.T)\n",
        "#       degree_l = torch.diag(degree)\n",
        "#       diagonal_degree_hat = torch.diag(1 / (torch.sqrt(degree) + 1e-7))\n",
        "#       laplacian = torch.matmul(diagonal_degree_hat,\n",
        "#                                 torch.matmul(degree_l - attention, diagonal_degree_hat))\n",
        "#       mul_L = self.cheb_polynomial(laplacian)\n",
        "#       return mul_L, attention\n",
        "\n",
        "\n",
        "# def self_graph_attention( input, weights):\n",
        "#     weight_key = weights[0]\n",
        "#     weight_query = weights[1]\n",
        "#     input = input.permute(0, 2, 1).contiguous()\n",
        "#     bat, N, fea = input.size()\n",
        "#     key = torch.matmul(input, weight_key)\n",
        "#     query = torch.matmul(input, weight_query)\n",
        "    \n",
        "#     data = key.repeat(1, 1, N).view(bat, N * N, 1) + query.repeat(1, N, 1)\n",
        "#     data = data.squeeze(2)\n",
        "#     data = data.view(bat, N, -1)\n",
        "#     # data = torch.nn.Leakyrelu(data)\n",
        "#     import pdb; pdb.set_trace()\n",
        "#     attention = F.softmax(data, dim=2)\n",
        "#     attention = nn.functional.dropout(attention)\n",
        "#     return attention"
      ],
      "execution_count": null,
      "outputs": []
    },
    {
      "cell_type": "code",
      "metadata": {
        "id": "CUJIVZnOFeRf",
        "colab": {
          "base_uri": "https://localhost:8080/"
        },
        "outputId": "617fe85a-cde1-4c11-c901-0ec3505d6a57"
      },
      "source": [
        "args"
      ],
      "execution_count": null,
      "outputs": [
        {
          "output_type": "execute_result",
          "data": {
            "text/plain": [
              "{'batch_size': 32,\n",
              " 'dataset': 'PeMS07',\n",
              " 'decay_rate': 0.5,\n",
              " 'device': 'cpu',\n",
              " 'dropout_rate': 0.5,\n",
              " 'early_stop': False,\n",
              " 'epoch': 50,\n",
              " 'evaluate': True,\n",
              " 'exponential_decay_step': 5,\n",
              " 'horizon': 3,\n",
              " 'leakyrelu_rate': 0.2,\n",
              " 'lr': 0.0001,\n",
              " 'multi_layer': 5,\n",
              " 'norm_method': 'z_score',\n",
              " 'optimizer': 'RMSProp',\n",
              " 'test_length': 1,\n",
              " 'train': True,\n",
              " 'train_length': 7,\n",
              " 'valid_length': 2,\n",
              " 'validate_freq': 1,\n",
              " 'window_size': 12}"
            ]
          },
          "metadata": {},
          "execution_count": 93
        }
      ]
    },
    {
      "cell_type": "code",
      "metadata": {
        "id": "OQXaiXaR0KlJ"
      },
      "source": [
        "# mul_L, attention = net.latent_correlation_layer(batch[0])a\n",
        "# weight_key = nn.Parameter(torch.zeros(size=(228, 1)))\n",
        "# weight_query = nn.Parameter(torch.zeros(size=(228, 1)))\n",
        "\n",
        "# # self_graph_attention(input_, [weight_key, weight_query])\n",
        "# mul_L.shape"
      ],
      "execution_count": null,
      "outputs": []
    },
    {
      "cell_type": "code",
      "metadata": {
        "colab": {
          "base_uri": "https://localhost:8080/"
        },
        "id": "wH8OWHpgC4sV",
        "outputId": "356d62aa-c9b3-424c-d897-642ea0686799"
      },
      "source": [
        ""
      ],
      "execution_count": null,
      "outputs": [
        {
          "output_type": "execute_result",
          "data": {
            "text/plain": [
              "torch.Size([4, 228, 228])"
            ]
          },
          "metadata": {},
          "execution_count": 92
        }
      ]
    },
    {
      "cell_type": "code",
      "metadata": {
        "colab": {
          "base_uri": "https://localhost:8080/"
        },
        "id": "wcvDH6SRVuJ7",
        "outputId": "e67064af-df0a-44de-ee5a-683e7ffb1ae6"
      },
      "source": [
        "before_train = datetime.now().timestamp()\n",
        "_, normalize_statistic = train(train_data, valid_data, args, result_train_file)\n",
        "after_train = datetime.now().timestamp()\n",
        "print(f'Training took {(after_train - before_train) / 60} minutes')\n"
      ],
      "execution_count": 36,
      "outputs": [
        {
          "output_type": "stream",
          "name": "stdout",
          "text": [
            "Total Trainable Params: 1806183\n"
          ]
        },
        {
          "output_type": "stream",
          "name": "stderr",
          "text": [
            "/usr/local/lib/python3.7/dist-packages/ipykernel_launcher.py:51: UserWarning: The function torch.rfft is deprecated and will be removed in a future PyTorch release. Use the new torch.fft module functions, instead, by importing torch.fft and calling torch.fft.fft or torch.fft.rfft. (Triggered internally at  /pytorch/aten/src/ATen/native/SpectralOps.cpp:590.)\n",
            "/usr/local/lib/python3.7/dist-packages/ipykernel_launcher.py:60: UserWarning: The function torch.irfft is deprecated and will be removed in a future PyTorch release. Use the new torch.fft module functions, instead, by importing torch.fft and calling torch.fft.ifft or torch.fft.irfft. (Triggered internally at  /pytorch/aten/src/ATen/native/SpectralOps.cpp:602.)\n"
          ]
        },
        {
          "output_type": "stream",
          "name": "stdout",
          "text": [
            "| end of epoch   0 | time: 150.88s | train_total_loss 0.7116\n",
            "------ validate on data: VALIDATE ------\n",
            "NORM: MAPE 96.856395368%; MAE 1.791676110; RMSE 2.487017776.\n",
            "RAW : MAPE 28.248559029%; MAE 39.110354489; RMSE 98.360326539.\n",
            "| end of epoch   1 | time: 152.24s | train_total_loss 0.4203\n",
            "------ validate on data: VALIDATE ------\n",
            "NORM: MAPE 95.633244414%; MAE 1.667335869; RMSE 2.364062546.\n",
            "RAW : MAPE 26.384689439%; MAE 35.963591056; RMSE 91.239368725.\n",
            "| end of epoch   2 | time: 150.51s | train_total_loss 0.3481\n",
            "------ validate on data: VALIDATE ------\n",
            "NORM: MAPE 90.789287965%; MAE 1.573103290; RMSE 2.283904991.\n",
            "RAW : MAPE 25.056398273%; MAE 33.568068952; RMSE 86.149225064.\n",
            "| end of epoch   3 | time: 149.79s | train_total_loss 0.2969\n",
            "------ validate on data: VALIDATE ------\n",
            "NORM: MAPE 81.210456752%; MAE 1.501082572; RMSE 2.221498660.\n",
            "RAW : MAPE 23.757848612%; MAE 32.342798469; RMSE 84.109925110.\n",
            "| end of epoch   4 | time: 150.69s | train_total_loss 0.2645\n",
            "------ validate on data: VALIDATE ------\n",
            "NORM: MAPE 75.156489765%; MAE 1.412033169; RMSE 2.151531356.\n",
            "RAW : MAPE 22.339769423%; MAE 30.169018225; RMSE 79.700070879.\n",
            "| end of epoch   5 | time: 150.97s | train_total_loss 0.2416\n",
            "------ validate on data: VALIDATE ------\n",
            "NORM: MAPE 74.977416625%; MAE 1.412664931; RMSE 2.139527420.\n",
            "RAW : MAPE 22.379631561%; MAE 30.223843507; RMSE 79.525835183.\n",
            "| end of epoch   6 | time: 149.77s | train_total_loss 0.2337\n",
            "------ validate on data: VALIDATE ------\n",
            "NORM: MAPE 72.629955093%; MAE 1.372976941; RMSE 2.108823716.\n",
            "RAW : MAPE 21.760289788%; MAE 29.225164356; RMSE 77.545553228.\n",
            "| end of epoch   7 | time: 150.01s | train_total_loss 0.2233\n",
            "------ validate on data: VALIDATE ------\n",
            "NORM: MAPE 75.910609230%; MAE 1.429795833; RMSE 2.128348806.\n",
            "RAW : MAPE 22.634128729%; MAE 30.887924356; RMSE 80.323212518.\n",
            "| end of epoch   8 | time: 150.47s | train_total_loss 0.2122\n",
            "------ validate on data: VALIDATE ------\n",
            "NORM: MAPE 70.627319242%; MAE 1.327798721; RMSE 2.065646753.\n",
            "RAW : MAPE 21.126886126%; MAE 28.030254076; RMSE 74.650330208.\n",
            "| end of epoch   9 | time: 149.75s | train_total_loss 0.2030\n",
            "------ validate on data: VALIDATE ------\n",
            "NORM: MAPE 69.844526766%; MAE 1.357913875; RMSE 2.071116389.\n",
            "RAW : MAPE 21.546612648%; MAE 29.109582039; RMSE 76.959244164.\n",
            "| end of epoch  10 | time: 150.41s | train_total_loss 0.1950\n",
            "------ validate on data: VALIDATE ------\n",
            "NORM: MAPE 68.618456973%; MAE 1.325742334; RMSE 2.050090490.\n",
            "RAW : MAPE 21.144767079%; MAE 28.120266041; RMSE 74.480356212.\n",
            "| end of epoch  11 | time: 148.99s | train_total_loss 0.1917\n",
            "------ validate on data: VALIDATE ------\n",
            "NORM: MAPE 67.190814812%; MAE 1.308703990; RMSE 2.038200621.\n",
            "RAW : MAPE 20.863912018%; MAE 27.692824950; RMSE 73.567262005.\n",
            "| end of epoch  12 | time: 149.47s | train_total_loss 0.1854\n",
            "------ validate on data: VALIDATE ------\n",
            "NORM: MAPE 66.574229396%; MAE 1.300832792; RMSE 2.028665226.\n",
            "RAW : MAPE 20.728229997%; MAE 27.544389387; RMSE 73.213954740.\n",
            "| end of epoch  13 | time: 148.74s | train_total_loss 0.1796\n",
            "------ validate on data: VALIDATE ------\n",
            "NORM: MAPE 66.205778025%; MAE 1.294170089; RMSE 2.020356179.\n",
            "RAW : MAPE 20.644325918%; MAE 27.373279608; RMSE 72.749868367.\n",
            "| end of epoch  14 | time: 148.24s | train_total_loss 0.1776\n",
            "------ validate on data: VALIDATE ------\n",
            "NORM: MAPE 67.286638767%; MAE 1.334090435; RMSE 2.037371931.\n",
            "RAW : MAPE 21.181786873%; MAE 28.640995973; RMSE 75.526112573.\n",
            "| end of epoch  15 | time: 148.73s | train_total_loss 0.1730\n",
            "------ validate on data: VALIDATE ------\n",
            "NORM: MAPE 65.935750048%; MAE 1.303019187; RMSE 2.017886083.\n",
            "RAW : MAPE 20.765616196%; MAE 27.707202942; RMSE 73.392098039.\n",
            "| end of epoch  16 | time: 147.76s | train_total_loss 0.1722\n",
            "------ validate on data: VALIDATE ------\n",
            "NORM: MAPE 64.185277710%; MAE 1.255480857; RMSE 1.992992543.\n",
            "RAW : MAPE 20.075598105%; MAE 26.313791995; RMSE 70.506812363.\n",
            "| end of epoch  17 | time: 148.57s | train_total_loss 0.1696\n",
            "------ validate on data: VALIDATE ------\n",
            "NORM: MAPE 63.881599101%; MAE 1.256763963; RMSE 1.990951712.\n",
            "RAW : MAPE 20.068021623%; MAE 26.399822609; RMSE 70.645570558.\n",
            "| end of epoch  18 | time: 149.29s | train_total_loss 0.1684\n",
            "------ validate on data: VALIDATE ------\n",
            "NORM: MAPE 63.084272275%; MAE 1.229564277; RMSE 1.975855908.\n",
            "RAW : MAPE 19.652350679%; MAE 25.642645250; RMSE 69.212404413.\n",
            "| end of epoch  19 | time: 148.55s | train_total_loss 0.1648\n",
            "------ validate on data: VALIDATE ------\n",
            "NORM: MAPE 63.053164667%; MAE 1.240415348; RMSE 1.977385750.\n",
            "RAW : MAPE 19.805439880%; MAE 25.995893969; RMSE 69.809209020.\n",
            "| end of epoch  20 | time: 148.73s | train_total_loss 0.1643\n",
            "------ validate on data: VALIDATE ------\n",
            "NORM: MAPE 62.618572861%; MAE 1.227297660; RMSE 1.970368289.\n",
            "RAW : MAPE 19.614077807%; MAE 25.619440004; RMSE 69.080462173.\n",
            "| end of epoch  21 | time: 150.35s | train_total_loss 0.1631\n",
            "------ validate on data: VALIDATE ------\n",
            "NORM: MAPE 62.465785219%; MAE 1.225890555; RMSE 1.968356871.\n",
            "RAW : MAPE 19.586152478%; MAE 25.598459980; RMSE 69.017794630.\n",
            "| end of epoch  22 | time: 148.28s | train_total_loss 0.1631\n",
            "------ validate on data: VALIDATE ------\n",
            "NORM: MAPE 62.059279076%; MAE 1.216606220; RMSE 1.963099804.\n",
            "RAW : MAPE 19.434338842%; MAE 25.355591347; RMSE 68.576176966.\n",
            "| end of epoch  23 | time: 148.76s | train_total_loss 0.1612\n",
            "------ validate on data: VALIDATE ------\n",
            "NORM: MAPE 61.854509794%; MAE 1.213165604; RMSE 1.960168553.\n",
            "RAW : MAPE 19.385626797%; MAE 25.265922717; RMSE 68.373874053.\n",
            "| end of epoch  24 | time: 148.73s | train_total_loss 0.1599\n",
            "------ validate on data: VALIDATE ------\n",
            "NORM: MAPE 61.722644673%; MAE 1.210290887; RMSE 1.957717439.\n",
            "RAW : MAPE 19.349995735%; MAE 25.185286630; RMSE 68.188013705.\n",
            "| end of epoch  25 | time: 147.55s | train_total_loss 0.1591\n",
            "------ validate on data: VALIDATE ------\n",
            "NORM: MAPE 61.648831343%; MAE 1.208594359; RMSE 1.956132451.\n",
            "RAW : MAPE 19.321583360%; MAE 25.145927950; RMSE 68.101223118.\n",
            "| end of epoch  26 | time: 148.18s | train_total_loss 0.1597\n",
            "------ validate on data: VALIDATE ------\n",
            "NORM: MAPE 61.465592575%; MAE 1.205138202; RMSE 1.954141787.\n",
            "RAW : MAPE 19.272522455%; MAE 25.050589784; RMSE 67.915345910.\n",
            "| end of epoch  27 | time: 148.28s | train_total_loss 0.1591\n",
            "------ validate on data: VALIDATE ------\n",
            "NORM: MAPE 61.621489295%; MAE 1.212143237; RMSE 1.956102844.\n",
            "RAW : MAPE 19.367392810%; MAE 25.265418504; RMSE 68.282503722.\n",
            "| end of epoch  28 | time: 151.29s | train_total_loss 0.1564\n",
            "------ validate on data: VALIDATE ------\n",
            "NORM: MAPE 61.527596595%; MAE 1.208813424; RMSE 1.953979040.\n",
            "RAW : MAPE 19.327077948%; MAE 25.164410015; RMSE 68.066907948.\n",
            "| end of epoch  29 | time: 149.60s | train_total_loss 0.1575\n",
            "------ validate on data: VALIDATE ------\n",
            "NORM: MAPE 61.346482779%; MAE 1.201349568; RMSE 1.950281145.\n",
            "RAW : MAPE 19.220067842%; MAE 24.946370288; RMSE 67.666047285.\n",
            "| end of epoch  30 | time: 149.68s | train_total_loss 0.1578\n",
            "------ validate on data: VALIDATE ------\n",
            "NORM: MAPE 61.339691051%; MAE 1.203028034; RMSE 1.950544428.\n",
            "RAW : MAPE 19.241551093%; MAE 25.002879116; RMSE 67.757409984.\n",
            "| end of epoch  31 | time: 148.33s | train_total_loss 0.1563\n",
            "------ validate on data: VALIDATE ------\n",
            "NORM: MAPE 61.290866923%; MAE 1.202521673; RMSE 1.949980603.\n",
            "RAW : MAPE 19.231940791%; MAE 24.994742028; RMSE 67.736313686.\n",
            "| end of epoch  32 | time: 149.68s | train_total_loss 0.1555\n",
            "------ validate on data: VALIDATE ------\n",
            "NORM: MAPE 61.316790832%; MAE 1.204325783; RMSE 1.950239998.\n",
            "RAW : MAPE 19.253962630%; MAE 25.054027621; RMSE 67.833043789.\n",
            "| end of epoch  33 | time: 148.30s | train_total_loss 0.1555\n",
            "------ validate on data: VALIDATE ------\n",
            "NORM: MAPE 61.249055129%; MAE 1.202858282; RMSE 1.949242473.\n",
            "RAW : MAPE 19.232258914%; MAE 25.015285378; RMSE 67.753981723.\n",
            "| end of epoch  34 | time: 196.69s | train_total_loss 0.1555\n",
            "------ validate on data: VALIDATE ------\n",
            "NORM: MAPE 61.189944791%; MAE 1.201484053; RMSE 1.948277736.\n",
            "RAW : MAPE 19.210511031%; MAE 24.979107404; RMSE 67.681789149.\n",
            "| end of epoch  35 | time: 152.85s | train_total_loss 0.1564\n",
            "------ validate on data: VALIDATE ------\n",
            "NORM: MAPE 61.188601905%; MAE 1.202168067; RMSE 1.948350443.\n",
            "RAW : MAPE 19.219055379%; MAE 25.002666503; RMSE 67.720096946.\n",
            "| end of epoch  36 | time: 152.38s | train_total_loss 0.1566\n",
            "------ validate on data: VALIDATE ------\n",
            "NORM: MAPE 61.113127116%; MAE 1.199699590; RMSE 1.947186905.\n",
            "RAW : MAPE 19.184759268%; MAE 24.930551620; RMSE 67.586622435.\n",
            "| end of epoch  37 | time: 151.71s | train_total_loss 0.1562\n",
            "------ validate on data: VALIDATE ------\n",
            "NORM: MAPE 61.072530617%; MAE 1.198673921; RMSE 1.946566839.\n",
            "RAW : MAPE 19.169288564%; MAE 24.902811760; RMSE 67.534261159.\n",
            "| end of epoch  38 | time: 151.36s | train_total_loss 0.1549\n",
            "------ validate on data: VALIDATE ------\n",
            "NORM: MAPE 61.035683525%; MAE 1.197811378; RMSE 1.946002581.\n",
            "RAW : MAPE 19.155274643%; MAE 24.880610714; RMSE 67.491806657.\n",
            "| end of epoch  39 | time: 151.70s | train_total_loss 0.1561\n",
            "------ validate on data: VALIDATE ------\n",
            "NORM: MAPE 61.009576069%; MAE 1.197227365; RMSE 1.945580874.\n",
            "RAW : MAPE 19.146561136%; MAE 24.864505254; RMSE 67.458114296.\n",
            "| end of epoch  40 | time: 153.00s | train_total_loss 0.1548\n",
            "------ validate on data: VALIDATE ------\n",
            "NORM: MAPE 61.011472846%; MAE 1.197693300; RMSE 1.945662875.\n",
            "RAW : MAPE 19.152486294%; MAE 24.879542185; RMSE 67.482337925.\n",
            "| end of epoch  41 | time: 152.31s | train_total_loss 0.1569\n",
            "------ validate on data: VALIDATE ------\n",
            "NORM: MAPE 60.986830953%; MAE 1.196798928; RMSE 1.945212285.\n",
            "RAW : MAPE 19.139890963%; MAE 24.853098902; RMSE 67.432917039.\n",
            "| end of epoch  42 | time: 151.93s | train_total_loss 0.1554\n",
            "------ validate on data: VALIDATE ------\n",
            "NORM: MAPE 60.963244672%; MAE 1.196240009; RMSE 1.944903636.\n",
            "RAW : MAPE 19.132063317%; MAE 24.837261374; RMSE 67.402712429.\n",
            "| end of epoch  43 | time: 151.09s | train_total_loss 0.1558\n",
            "------ validate on data: VALIDATE ------\n",
            "NORM: MAPE 60.949122412%; MAE 1.195986009; RMSE 1.944705224.\n",
            "RAW : MAPE 19.127326407%; MAE 24.831860851; RMSE 67.392592691.\n",
            "| end of epoch  44 | time: 151.13s | train_total_loss 0.1556\n",
            "------ validate on data: VALIDATE ------\n",
            "NORM: MAPE 60.936972496%; MAE 1.195825509; RMSE 1.944554100.\n",
            "RAW : MAPE 19.124440123%; MAE 24.828318156; RMSE 67.384892519.\n",
            "| end of epoch  45 | time: 151.32s | train_total_loss 0.1538\n",
            "------ validate on data: VALIDATE ------\n",
            "NORM: MAPE 60.939420677%; MAE 1.196067423; RMSE 1.944586309.\n",
            "RAW : MAPE 19.127434512%; MAE 24.836446416; RMSE 67.398101526.\n",
            "| end of epoch  46 | time: 152.64s | train_total_loss 0.1551\n",
            "------ validate on data: VALIDATE ------\n",
            "NORM: MAPE 60.928741241%; MAE 1.195712686; RMSE 1.944404952.\n",
            "RAW : MAPE 19.122351355%; MAE 24.826272795; RMSE 67.379331278.\n",
            "| end of epoch  47 | time: 153.53s | train_total_loss 0.1555\n",
            "------ validate on data: VALIDATE ------\n",
            "NORM: MAPE 60.927886251%; MAE 1.195818768; RMSE 1.944392507.\n",
            "RAW : MAPE 19.123669755%; MAE 24.830056133; RMSE 67.384758920.\n",
            "| end of epoch  48 | time: 152.15s | train_total_loss 0.1544\n",
            "------ validate on data: VALIDATE ------\n",
            "NORM: MAPE 60.925081782%; MAE 1.195803196; RMSE 1.944333273.\n",
            "RAW : MAPE 19.123323336%; MAE 24.830156115; RMSE 67.383721832.\n",
            "| end of epoch  49 | time: 154.45s | train_total_loss 0.1553\n",
            "------ validate on data: VALIDATE ------\n",
            "NORM: MAPE 60.919939676%; MAE 1.195708880; RMSE 1.944238664.\n",
            "RAW : MAPE 19.121639921%; MAE 24.828190799; RMSE 67.379250994.\n",
            "Training took 137.1191864967346 minutes\n"
          ]
        }
      ]
    },
    {
      "cell_type": "code",
      "metadata": {
        "id": "go5g7agHV8KD"
      },
      "source": [
        "prediction = pd.read_csv('output/sp500_prices_adjclose_30_09_16_30_09_21/train/predict.csv',header=None)\n",
        "target = pd.read_csv('output/sp500_prices_adjclose_30_09_16_30_09_21/train/target.csv',header=None)"
      ],
      "execution_count": 110,
      "outputs": []
    },
    {
      "cell_type": "code",
      "metadata": {
        "id": "Xs6nBFnLaiXx"
      },
      "source": [
        "target_data = pd.read_csv(data_file).set_index('date').iloc[(train_data.shape[0] + 12):((train_data.shape[0] + 12) + prediction.shape[0]),]\n",
        "prediction.columns = np.array(target_data.columns) + 'pred'\n",
        "prediction['date'] = target_data.index\n",
        "prediction = prediction.set_index('date')"
      ],
      "execution_count": 113,
      "outputs": []
    },
    {
      "cell_type": "code",
      "metadata": {
        "colab": {
          "base_uri": "https://localhost:8080/",
          "height": 638
        },
        "id": "w9iOnxsqcSTi",
        "outputId": "f9ca032c-ee24-47ec-c26a-2c15b582bf03"
      },
      "source": [
        "\n",
        "_, ax = plt.subplots(1,2,figsize=(20,10))\n",
        "ax[0].set_title('Target')\n",
        "target_data.iloc[:,:10].plot(ax=ax[0])\n",
        "for line, name in zip(ax[0].lines, target_data.columns):\n",
        "    y = line.get_ydata()[-1]\n",
        "    ax[0].annotate(name, xy=(1,y), xytext=(6,0), color=line.get_color(), \n",
        "                xycoords = ax[0].get_yaxis_transform(), textcoords=\"offset points\",\n",
        "                size=14, va=\"center\")\n",
        "\n",
        "\n",
        "# _, ax = plt.subplots(figsize=(10,10))\n",
        "prediction.iloc[:,:10].plot(ax=ax[1])\n",
        "ax[1].set_title('Prediction')\n",
        "for line, name in zip(ax[1].lines, prediction.columns):\n",
        "    y = line.get_ydata()[-1]\n",
        "    ax[1].annotate(name, xy=(1,y), xytext=(6,0), color=line.get_color(), \n",
        "                xycoords = ax[1].get_yaxis_transform(), textcoords=\"offset points\",\n",
        "                size=14, va=\"center\")\n",
        "ax[1].set_ylim(0,550)"
      ],
      "execution_count": 139,
      "outputs": [
        {
          "output_type": "execute_result",
          "data": {
            "text/plain": [
              "(0.0, 550.0)"
            ]
          },
          "metadata": {},
          "execution_count": 139
        },
        {
          "output_type": "display_data",
          "data": {
            "image/png": "[encoded data removed]",
            "text/plain": [
              "<Figure size 1440x720 with 2 Axes>"
            ]
          },
          "metadata": {}
        }
      ]
    }
  ]
}